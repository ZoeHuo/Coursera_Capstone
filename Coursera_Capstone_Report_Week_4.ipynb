{
 "cells": [
  {
   "cell_type": "markdown",
   "metadata": {},
   "source": [
    "## Coursera IBM Applied Data Science Capstone\n",
    "### Denver Neighborhoods\n",
    "January 10th, 2021\n"
   ]
  },
  {
   "cell_type": "markdown",
   "metadata": {},
   "source": [
    "#### Introduction"
   ]
  },
  {
   "cell_type": "markdown",
   "metadata": {},
   "source": [
    "The capital of Colorado, Denver is a sprawling metropolis that attracts both tourists and new residents, leading the statewide population growth. Since 2010, the city has grown by a cumulative 21% [1]. Particularly, Denver has become a popular destination for people relocating during the COVID-19 pandemic [2]. The median age of residents in Denver is 34 [3], suggesting a large population of early career professionals who are or soon to be parents of young children. These people have a particular demand of living environment, such as the convenient access to child services and healthy grocers. In addition, these people often take into consideration of housing price when they choose neighborhoods to live in, because they often have to balance the needs between different categories of living expenses. \n",
    "<br>\n",
    "<br>\n",
    "This project aims to provide an analysis of Denver neighborhoods by integrating the information of median house price index for each neighborhood and the level of facility abundance. The analysis results are visualized in a map, which can be used in a recommender system or personal assistance application if implemented successfully. The target audience are incoming as well as current residents who are interested in moving into Denver neighborhoods convenient to raising young children based on their willingness or capability to afford housing expenses."
   ]
  },
  {
   "cell_type": "markdown",
   "metadata": {},
   "source": [
    "#### Data\n",
    "The following datasets are required to accomplish the objective. \n",
    "1.\tA list of neighborhoods in Denver and their latitude and longitude coordinates\n",
    "2.\tThe housing index of these neighborhoods\n",
    "3.\tThe number of select venues in each neighborhood"
   ]
  },
  {
   "cell_type": "markdown",
   "metadata": {},
   "source": [
    "The identify of a neighborhood can be determined by its name, coordinates, and sometimes zip code. After researching on the datasets of Denver neighborhoods available on the Internet, it became clear that the best way to identify each neighborhood for this project is to use a combination of name and coordinates. Specifically, the neighborhood name will be used to obtain the home value index for each neighborhood via Zillow (Zillow Home Value Index, or ZHVI, can be downloaded in csv file from https://www.zillow.com/research/data/). The coordinates of each neighborhood will be used as inputs to obtain the list of nearly venues through the Foursquare API (https://developer.foursquare.com/docs).\n",
    "The name and coordinates of Denver neighborhoods were obtained as a geojson file from Kaggle (https://www.kaggle.com/broach/denverairbnb?select=neighbourhoods.geojson). The neighborhoods are polygon shaped, with the coordinates of each polygon point reported in the geojson file. The center coordinates were calculated by averaging the highest number and lowest number for latitudes and longitudes, respectively. Note it is also possible to obtain center coordinates for each neighborhood by using Google Maps manually for free. The more automatic method of Google Maps Geocoding API charges a small amount of fee, so it was not pursued in this project. Attempt was made to explore other tools such as (https://geocoder.readthedocs.io/), but it didn’t work as it was built on Google Maps API. <br>    \n",
    "These center coordinates were then used to make requests in the Foursquare API to obtain a list of venues within the specified radius. Foursquare has a large number of categories, but only a few were selected in this application that are most relevant to the needs of working parents of young children. Target categories and their categoryId are listed below.<br>\n",
    "<ul>\n",
    "•\tChild Care Service (5744ccdfe4b0c0459246b4c7) <br>\n",
    "•\tBaby Store (52f2ab2ebcbc57f1066b8b32)<br>\n",
    "•\tPreschool (52e81612bcbc57f1066b7a45)<br>\n",
    "•\tDrugstore (5745c2e4498e11e7bccabdbd)<br>\n",
    "•\tGrocery Store (4bf58dd8d48988d118951735)<br>\n",
    "•\tOrganic Grocery (52f2ab2ebcbc57f1066b8b45)<br>\n",
    "•\tUrgent Care Center (56aa371be4b08b9a8d573526)<br>\n",
    "•\tGym / Fitness Center (4bf58dd8d48988d175941735)<br>\n",
    "•\tShopping Mall (4bf58dd8d48988d1fd941735)\n",
    "<\\ul>"
   ]
  },
  {
   "cell_type": "markdown",
   "metadata": {},
   "source": [
    "#### References"
   ]
  },
  {
   "cell_type": "markdown",
   "metadata": {},
   "source": [
    "[1] https://www.denverpost.com/2020/03/25/denver-colorado-2019-census-population-growth-estimates/ <br>\n",
    "[2] https://www.denverpost.com/2020/12/16/denver-most-moved-to-cities-covid-pandemic/ <br>\n",
    "[3] https://www.mymove.com/city-guides/co/denver/"
   ]
  }
 ],
 "metadata": {
  "kernelspec": {
   "display_name": "Python 3",
   "language": "python",
   "name": "python3"
  },
  "language_info": {
   "codemirror_mode": {
    "name": "ipython",
    "version": 3
   },
   "file_extension": ".py",
   "mimetype": "text/x-python",
   "name": "python",
   "nbconvert_exporter": "python",
   "pygments_lexer": "ipython3",
   "version": "3.7.6"
  }
 },
 "nbformat": 4,
 "nbformat_minor": 4
}
